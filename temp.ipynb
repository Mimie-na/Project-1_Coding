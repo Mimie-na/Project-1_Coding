{
  "nbformat": 4,
  "nbformat_minor": 0,
  "metadata": {
    "colab": {
      "provenance": [],
      "authorship_tag": "ABX9TyOyDWVcCIf4HA641MHhMEqw",
      "include_colab_link": true
    },
    "kernelspec": {
      "name": "python3",
      "display_name": "Python 3"
    },
    "language_info": {
      "name": "python"
    }
  },
  "cells": [
    {
      "cell_type": "markdown",
      "metadata": {
        "id": "view-in-github",
        "colab_type": "text"
      },
      "source": [
        "<a href=\"https://colab.research.google.com/github/Mimie-na/Project-1_Coding/blob/main/temp.ipynb\" target=\"_parent\"><img src=\"https://colab.research.google.com/assets/colab-badge.svg\" alt=\"Open In Colab\"/></a>"
      ]
    },
    {
      "cell_type": "code",
      "source": [
        "print(\"การแปลงอุณหภูมิ\")\n",
        "\n",
        "def celsius_to_fahrenheit (celsius) :\n",
        "  return  (celsius*9/5)+32\n",
        "\n",
        "def celsius_to_kelvin (celsius) :\n",
        "  return  celsius+273.15\n",
        "\n",
        "\n",
        "def fahrenheit_to_celsius (fahrenheit) :\n",
        "  return  5/9*(fahrenheit-32)\n",
        "\n",
        "def fahrenheit_to_kelvin (fahrenheit) :\n",
        "  return  5/9*(fahrenheit-32)+273.15\n",
        "\n",
        "\n",
        "def kelvin_to_celsius (kelvin) :\n",
        "  return kelvin-273.15\n",
        "\n",
        "def kelvin_to_fahrenheit (kelvin) :\n",
        "  return 9/5*(kelvin-273.15)+32\n",
        "\n",
        "\n",
        "print(\"เลือกหน่วยอุณหภูมิที่ท่านต้องการแปลง\")\n",
        "print(\"1: celsius -> fahrenheit/kelvin\")\n",
        "print(\"2: fahrenheit -> celsius/kelvin\")\n",
        "print(\"3: kelvin -> celsius/fahrenheit\")\n",
        "\n",
        "\n",
        "choice = input(\"ป้อนหมายเลขที่ต้องการ (1,2,3) : \")\n",
        "\n",
        "temperature = float(input(\"ป้อนค่าอุณหภูมิ: \"))\n",
        "\n",
        "\n",
        "if choice == \"1\" :\n",
        "\n",
        "             print(f\"{temperature} C เท่ากับ {celsius_to_fahrenheit(temperature) : .1f} F และ {celsius_to_kelvin(temperature) : .2f} K\")\n",
        "\n",
        "elif choice == \"2\" :\n",
        "\n",
        "             print(f\"{temperature} F เท่ากับ {fahrenheit_to_celsius(temperature) : .1f} C และ {fahrenheit_to_kelvin(temperature) : .2f} K\")\n",
        "\n",
        "elif choice == \"3\" :\n",
        "\n",
        "            print(f\"{temperature} K เท่ากับ {kelvin_to_celsius(temperature) : .1f} C และ {kelvin_to_fahrenheit(temperature) : .1f} F\")\n",
        "\n",
        "else :\n",
        "\n",
        "    print(\"กรุณาเลือกหมายเลขที่ถูกต้อง!\")"
      ],
      "metadata": {
        "id": "FtW_bHA5MpgR",
        "colab": {
          "base_uri": "https://localhost:8080/"
        },
        "outputId": "294dbf87-6a65-48e3-ac88-56bc8229309a"
      },
      "execution_count": null,
      "outputs": [
        {
          "output_type": "stream",
          "name": "stdout",
          "text": [
            "การแปลงอุณหภูมิ\n",
            "เลือกหน่วยอุณหภูมิที่ท่านต้องการแปลง\n",
            "1: celsius -> fahrenheit/kelvin\n",
            "2: fahrenheit -> celsius/kelvin\n",
            "3: kelvin -> celsius/fahrenheit\n",
            "ป้อนหมายเลขที่ต้องการ (1,2,3) : 1\n",
            "ป้อนค่าอุณหภูมิ: 30\n",
            "30.0 C เท่ากับ  86.0 F และ  303.15 K\n"
          ]
        }
      ]
    }
  ]
}