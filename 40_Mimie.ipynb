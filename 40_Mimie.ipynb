{
  "nbformat": 4,
  "nbformat_minor": 0,
  "metadata": {
    "colab": {
      "provenance": [],
      "authorship_tag": "ABX9TyOI/Z8wqshOeo2OGauQPGBR",
      "include_colab_link": true
    },
    "kernelspec": {
      "name": "python3",
      "display_name": "Python 3"
    },
    "language_info": {
      "name": "python"
    }
  },
  "cells": [
    {
      "cell_type": "markdown",
      "metadata": {
        "id": "view-in-github",
        "colab_type": "text"
      },
      "source": [
        "<a href=\"https://colab.research.google.com/github/Mimie-na/Project-1_Coding/blob/main/40_Mimie.ipynb\" target=\"_parent\"><img src=\"https://colab.research.google.com/assets/colab-badge.svg\" alt=\"Open In Colab\"/></a>"
      ]
    },
    {
      "cell_type": "markdown",
      "source": [
        "เลขที่ 40 มีมี่ สุพิชญา ทานา\n",
        "No.40 Mimie Supichaya Tana"
      ],
      "metadata": {
        "id": "xioBqHeD_dpL"
      }
    },
    {
      "cell_type": "code",
      "source": [
        "print('เมื่อวาน')"
      ],
      "metadata": {
        "id": "57-ROIOMYkxV"
      },
      "execution_count": null,
      "outputs": []
    },
    {
      "cell_type": "code",
      "source": [
        "print(\"สวัสดีกั้บบ มีมี่นะคะ\")"
      ],
      "metadata": {
        "colab": {
          "base_uri": "https://localhost:8080/"
        },
        "id": "K6eHwAVAD7tq",
        "outputId": "820c53b7-4199-4d59-e02f-a6c9e7c8e608"
      },
      "execution_count": null,
      "outputs": [
        {
          "output_type": "stream",
          "name": "stdout",
          "text": [
            "สวัสดีกั้บบ มีมี่นะคะ\n"
          ]
        }
      ]
    },
    {
      "cell_type": "code",
      "source": [
        "a=2\n",
        "b=3.5\n",
        "print(\"เมื่อวานฉันขาดทุน \",a,\" % วันนี้ฉันได้กำไร \",b,\"%\")"
      ],
      "metadata": {
        "colab": {
          "base_uri": "https://localhost:8080/"
        },
        "id": "LUwWvzqrFm0T",
        "outputId": "8e72ce21-e99d-4ec8-b50c-a8aedaab8096"
      },
      "execution_count": null,
      "outputs": [
        {
          "output_type": "stream",
          "name": "stdout",
          "text": [
            "เมื่อวานฉันขาดทุน  2  % วันนี้ฉันได้กำไร  3.5 %\n"
          ]
        }
      ]
    },
    {
      "cell_type": "markdown",
      "source": [
        "29 May 2024\n",
        "\n",
        " ประเภทของข้อมูล ประเภทตัวแปรที่ใช้ต้องเป็นภาษอังกฤษตัวพิมพ์เล็ก และคำสั่ง type และ print(แสดงค่า)"
      ],
      "metadata": {
        "id": "9S932omaZTJk"
      }
    },
    {
      "cell_type": "code",
      "source": [
        "a = 2\n",
        "b = 1.5\n",
        "c = \"M.4/4\"\n",
        "\n",
        "type(c)\n",
        "\n",
        "print(\"ตัวแปรที่ฉันคิด คือ food\")"
      ],
      "metadata": {
        "colab": {
          "base_uri": "https://localhost:8080/"
        },
        "id": "wIk7GxobZZiU",
        "outputId": "323ba0e2-9879-4e50-88d5-d9495c0415da"
      },
      "execution_count": null,
      "outputs": [
        {
          "output_type": "execute_result",
          "data": {
            "text/plain": [
              "str"
            ]
          },
          "metadata": {},
          "execution_count": 3
        }
      ]
    },
    {
      "cell_type": "code",
      "source": [
        "numeric1 = 5\n",
        "\n",
        "print(numeric1)\n",
        "\n",
        "type(numeric1)"
      ],
      "metadata": {
        "colab": {
          "base_uri": "https://localhost:8080/"
        },
        "id": "2575q-7olDH-",
        "outputId": "31b7b808-c3ab-4a5d-bb60-7022a69c5324"
      },
      "execution_count": null,
      "outputs": [
        {
          "output_type": "stream",
          "name": "stdout",
          "text": [
            "5\n"
          ]
        },
        {
          "output_type": "execute_result",
          "data": {
            "text/plain": [
              "int"
            ]
          },
          "metadata": {},
          "execution_count": 4
        }
      ]
    },
    {
      "cell_type": "markdown",
      "source": [
        "05 June 2024"
      ],
      "metadata": {
        "id": "9HpMijssWmI0"
      }
    },
    {
      "cell_type": "markdown",
      "source": [
        "Data structure\n",
        "basic\n",
        "1.Numeric int(จ.น.จริง) float(จ.น.เต็ม) bool(true false) complex(ค่าคงตัว,ค่าที่หาไม่ได้) 2. string อักษร\n",
        "\n",
        "index จัดลำดับตัวอักษรจาก 0 เพิ่มขึ้นทีละ 1\n",
        "\n",
        "in put = (ป้อนโค้ด) string = 'Python' print(string1[0])\n",
        "process = กดรันโค้ด ประมวลออกมาเป็นPเนื่องจาก[0]\n",
        "out put = แสดงผลจากโค้ด (P)"
      ],
      "metadata": {
        "id": "v42xfTqpXGOE"
      }
    },
    {
      "cell_type": "code",
      "source": [
        "string1 = \"Python\"\n",
        "\n",
        "print(string1[1])"
      ],
      "metadata": {
        "colab": {
          "base_uri": "https://localhost:8080/"
        },
        "id": "OX3XaiMVYkR9",
        "outputId": "345ecf2c-cd37-41a1-9553-f154ee9a0c61"
      },
      "execution_count": null,
      "outputs": [
        {
          "output_type": "stream",
          "name": "stdout",
          "text": [
            "y\n"
          ]
        }
      ]
    },
    {
      "cell_type": "markdown",
      "source": [
        "26 June 2024\n",
        "\n",
        "input การนำเข้าข้อมูล string ข้อความ(มีเครื่องหมายคำพูด)"
      ],
      "metadata": {
        "id": "n1up1YmeuKge"
      }
    },
    {
      "cell_type": "code",
      "source": [
        "name = input(\"คุณชื่ออะไร เราชื่อ มีมี่\")\n",
        "\n",
        "print(\"ยินดีที่ได้รู้จัก\",name)"
      ],
      "metadata": {
        "colab": {
          "base_uri": "https://localhost:8080/"
        },
        "id": "E82sWF_ruf_O",
        "outputId": "6a8084b3-ef59-4d40-d870-8944d29aa7dd"
      },
      "execution_count": null,
      "outputs": [
        {
          "output_type": "stream",
          "name": "stdout",
          "text": [
            "Your name Supichaya\n",
            " Supichaya\n"
          ]
        }
      ]
    },
    {
      "cell_type": "code",
      "source": [
        "side = int(input (\"ความยาวด้าน (ซม.) คือ\"))\n",
        "\n",
        "area = side*side\n",
        "\n",
        "print(\"พื้นที่สีเหลี่ยม เท่ากับ\" ,area, \"ตร.ซม\")"
      ],
      "metadata": {
        "id": "_VCWhVN2zEQH",
        "colab": {
          "base_uri": "https://localhost:8080/"
        },
        "outputId": "a5848abf-7b3a-4022-caac-b5a754b62e21"
      },
      "execution_count": null,
      "outputs": [
        {
          "output_type": "stream",
          "name": "stdout",
          "text": [
            "ความยาวด้าน (ซม.) คือ5\n",
            "พื้นที่สีเหลี่ยม เท่ากับ 25 ตร.ซม\n"
          ]
        }
      ]
    },
    {
      "cell_type": "markdown",
      "source": [
        "01 July 2024"
      ],
      "metadata": {
        "id": "1M2Bm4M-PyKI"
      }
    },
    {
      "cell_type": "code",
      "source": [
        "wide = int(input(\"ความกว้างของสี่เหลี่ยมผืนผ้า\"))\n",
        "long = int(input(\"ความยาวด้านของสี่เหลี่ยมผืนผ้า\"))\n",
        "area = wide*long\n",
        "\n",
        "print(\"พื้นที่ทั้งหมดของสี่เหลี่ยมผืนผ้าเท่ากับ\" ,area,\"ตร.ซม\")"
      ],
      "metadata": {
        "colab": {
          "base_uri": "https://localhost:8080/"
        },
        "id": "Y1pqOOpwP8tg",
        "outputId": "678fbf7d-2493-4d2b-d29f-52050d4ff67a"
      },
      "execution_count": null,
      "outputs": [
        {
          "output_type": "stream",
          "name": "stdout",
          "text": [
            "ความกว้างของสี่เหลี่ยมผืนผ้า3\n",
            "ความยาวด้านของสี่เหลี่ยมผืนผ้า4\n",
            "พื้นที่ทั้งหมดของสี่เหลี่ยมผืนผ้าเท่ากับ 12 ตร.ซม\n"
          ]
        }
      ]
    },
    {
      "cell_type": "code",
      "source": [
        "s = int(input(\"ระยะทางในการเคลื่อนที่\"))\n",
        "t = int(input(\"เวลาในการเคลื่อนที่\"))\n",
        "speed = s/t\n",
        "print(\"\\nอัตราเร็วคือ\",speed, \"เมตรต่อวินาที\")"
      ],
      "metadata": {
        "colab": {
          "base_uri": "https://localhost:8080/"
        },
        "id": "jthOT0uhTxYI",
        "outputId": "66b06b91-b375-4f7e-d761-2fcad4ac9ba9"
      },
      "execution_count": null,
      "outputs": [
        {
          "output_type": "stream",
          "name": "stdout",
          "text": [
            "ระยะทางในการเคลื่อนที่50\n",
            "เวลาในการเคลื่อนที่5\n",
            "\n",
            "อัตราเร็วคือ 10.0 เมตรต่อวินาที\n"
          ]
        }
      ]
    },
    {
      "cell_type": "code",
      "source": [
        "print(\"คำนวณหาค่าดัชนีมวลกายเพื่อประมวลสภาวะของร่างกาย\")\n",
        "print(\"จัดทำโดย น้องมีมี่\")\n",
        "name = str(input(\"กรุณาใส่ชื่อของท่าน\"))\n",
        "weight = float(input(\"นํ้าหนัก (km)\"))\n",
        "height = float(input(\"ส่วนสูง (m)\"))\n",
        "bmi = weight/height**2\n",
        "print(\"ยินดีต้อนรับครับผม\" ,name)\n",
        "\n",
        "print(\"ค่าดัชนีมวลกายคือ\",bmi)"
      ],
      "metadata": {
        "colab": {
          "base_uri": "https://localhost:8080/"
        },
        "id": "38NU86fJXulq",
        "outputId": "59a4cdcd-9796-41b5-eb6f-ca666957d1c4"
      },
      "execution_count": null,
      "outputs": [
        {
          "output_type": "stream",
          "name": "stdout",
          "text": [
            "คำนวณหาค่าดัชนีมวลกายเพื่อประมวลสภาวะของร่างกาย\n",
            "จัดทำโดย น้องมีมี่\n",
            "กรุณาใส่ชื่อของท่านริต้า\n",
            "นํ้าหนัก (km)40\n",
            "ส่วนสูง (m)1.80\n",
            "ยินดีต้อนรับครับผม ริต้า\n",
            "ค่าดัชนีมวลกายคือ 12.345679012345679\n"
          ]
        }
      ]
    },
    {
      "cell_type": "markdown",
      "source": [],
      "metadata": {
        "id": "FSNVQ4gmh_th"
      }
    },
    {
      "cell_type": "code",
      "source": [],
      "metadata": {
        "id": "JAc415Aab9yp"
      },
      "execution_count": null,
      "outputs": []
    }
  ]
}